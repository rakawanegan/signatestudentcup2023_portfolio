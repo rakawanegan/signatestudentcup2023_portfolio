{
 "cells": [
  {
   "cell_type": "code",
   "execution_count": null,
   "metadata": {},
   "outputs": [],
   "source": [
    "import pandas as pd\n",
    "import glob\n",
    "import matplotlib.pyplot as plt"
   ]
  },
  {
   "cell_type": "code",
   "execution_count": null,
   "metadata": {},
   "outputs": [],
   "source": [
    "importance_files = glob.glob(\"../*importance*.csv\")\n",
    "importances = list()\n",
    "for importance_file in importance_files:\n",
    "    importance = pd.read_csv(importance_file, names=[\"feature\", \"importance\"], header=0, index_col=\"feature\")\n",
    "    importance = importance.sort_values(\"importance\", ascending=False)\n",
    "    importances.append(importance)"
   ]
  },
  {
   "cell_type": "code",
   "execution_count": null,
   "metadata": {},
   "outputs": [],
   "source": [
    "pd.concat(importances, axis=1).mean(axis=1).sort_values( ascending=False).head(50)"
   ]
  },
  {
   "cell_type": "code",
   "execution_count": null,
   "metadata": {},
   "outputs": [],
   "source": [
    "pd.concat(importances, axis=1)"
   ]
  },
  {
   "cell_type": "code",
   "execution_count": null,
   "metadata": {},
   "outputs": [],
   "source": [
    "eval_files = glob.glob(f\"../eval*.csv\")\n",
    "for eval_file in eval_files:\n",
    "    df = pd.read_csv(eval_file, names=[\"id\", \"predict\", \"true\"], index_col=\"id\")\n",
    "    ax, fig = plt.subplots(figsize=(10, 10))\n",
    "    plt.hist(df[\"predict\"])\n",
    "    plt.hist(df[\"true\"])\n",
    "    ax.legend([\"predict\", \"true\"])\n",
    "    plt.show()\n",
    "    plt.scatter(df[\"predict\"],df[\"true\"])\n",
    "    plt.show()"
   ]
  }
 ],
 "metadata": {
  "kernelspec": {
   "display_name": "Python 3",
   "language": "python",
   "name": "python3"
  },
  "language_info": {
   "codemirror_mode": {
    "name": "ipython",
    "version": 3
   },
   "file_extension": ".py",
   "mimetype": "text/x-python",
   "name": "python",
   "nbconvert_exporter": "python",
   "pygments_lexer": "ipython3",
   "version": "3.10.12"
  },
  "orig_nbformat": 4
 },
 "nbformat": 4,
 "nbformat_minor": 2
}
